{
  "nbformat": 4,
  "nbformat_minor": 0,
  "metadata": {
    "kernelspec": {
      "display_name": "Python 3",
      "language": "python",
      "name": "python3"
    },
    "language_info": {
      "codemirror_mode": {
        "name": "ipython",
        "version": 3
      },
      "file_extension": ".py",
      "mimetype": "text/x-python",
      "name": "python",
      "nbconvert_exporter": "python",
      "pygments_lexer": "ipython3",
      "version": "3.7.0"
    },
    "colab": {
      "name": "Neural Networks Lab.ipynb",
      "version": "0.3.2",
      "provenance": [],
      "collapsed_sections": []
    }
  },
  "cells": [
    {
      "cell_type": "markdown",
      "metadata": {
        "id": "rqYRYIxyjvR2",
        "colab_type": "text"
      },
      "source": [
        "# Neural Networks Lab\n",
        "\n",
        "> Author: Matt Brems (DC)\n",
        "\n",
        "In this lab, we are going to find out why neural networks are so good at what they do. Specifically, we'll do three things:\n",
        "1. Build and plot a \"complicated, wiggly\" function. This function could resemble any complicated real-world process that we would like to be able to model.\n",
        "2. Build a neural network from scratch that very closely approximates this function. (That is, the predicted values from the neural network are very, very close to the true values from the \"real\" function.)\n",
        "3. Understand the reason why neural networks are great, called the _Universal Approximation Theorem_.\n",
        "\n",
        "**Optional Video**: If you want a visual refresher on neural networks and their building blocks, head to [this link](https://www.youtube.com/watch?v=aircAruvnKk) and watch the 3Blue1Brown video on \"But what *is* a Neural Network?\" It's a **phenomenal** 20-minute introduction to solidify the building blocks of a neural network. (This is optional, but probably worth your time!)\n",
        "\n",
        "**Required Reading**: Head over to [this site](http://neuralnetworksanddeeplearning.com/chap4.html) and read from the beginning of the page until the \"Many Input Variables\" section.\n",
        "\n",
        "#### Recommended Order of Reading\n",
        "The introduction and the \"Two Caveats\" section are pretty mathematical in nature. I think this is a great resource, but wish that the author didn't start off with a mathematical theorem. If I were reading this page, I would:\n",
        "- skim the introduction,\n",
        "- skip the \"Two Caveats\" section,\n",
        "- read the \"Universality with One Input and One Output\" section,\n",
        "- go back and read the introduction,\n",
        "- then go back and read the \"Two Caveats\" section.\n",
        "\n",
        "(You do not need to read the \"Many Input Variables\" section and beyond but are certainly welcome to do so!)"
      ]
    },
    {
      "cell_type": "markdown",
      "metadata": {
        "id": "Ao3vcFZmjvR3",
        "colab_type": "text"
      },
      "source": [
        "**Problem 1:** Examine the image below. This shows a small neural network.\n",
        "\n",
        "<img src=\"./images/weight_bias.jpg\" alt=\"drawing\" width=\"400\"/>\n",
        "\n",
        "In this image:\n",
        "- How many input nodes are there?\n",
        "- How many hidden nodes are there?\n",
        "- How many hidden layers are there?\n",
        "- How many output nodes are there?\n",
        "- What does $w$ mean? \n",
        "- While only one is explicitly drawn on the diagram, how many values of $w$ would we expect in this neural network?\n",
        "- What does $b$ mean? \n",
        "- While only one is explicitly drawn on the diagram, how many values of $b$ would we expect in this neural network?"
      ]
    },
    {
      "cell_type": "markdown",
      "metadata": {
        "id": "dGvv_GdljvR3",
        "colab_type": "text"
      },
      "source": [
        "**Answer:**\n",
        "*   No. of input nodes: 1\n",
        "*   No. of hidden nodes: 2\n",
        "*   No. of hidden layers: 1\n",
        "*   No.of output nodes : 1\n",
        "*   w means weight accompanying the node. Can be thought of as the coefficient for the node(Beta)\n",
        "*   We would expect 4 weights in the neural network\n",
        "*   b is the bias\n",
        "*   we could expect 2 values for bias\n",
        "\n",
        "\n"
      ]
    },
    {
      "cell_type": "markdown",
      "metadata": {
        "id": "r5RJ3kOJjvR4",
        "colab_type": "text"
      },
      "source": [
        "**Problem 2:** For a sigmoidal activation function to closely resemble a step function, how would you describe the values of $w$ and $b$?\n",
        "\n",
        "_Hint:_ Try playing around with the applets on the page to test how different parts of the perceptron affect the output.\n",
        "\n",
        "_Note:_ In an attempt to make things easier, the article defines $s = \\frac{−b}{w}$. The author's goal is to only describe one parameter $s$ instead of describing $b$ and $w$. I find this notation confusing, because that notation only applies to this article and isn't used elsewhere. I'm going to stick with $b$ and $w$."
      ]
    },
    {
      "cell_type": "markdown",
      "metadata": {
        "collapsed": true,
        "id": "yUFofC9CjvR5",
        "colab_type": "text"
      },
      "source": [
        "\n",
        "\n",
        "**Answer:**\n",
        "The sigmoid function can be approximated as a step function by increasing the w to a reasonably large function.The position of the step is proportional to b, and inversely proportional to w."
      ]
    },
    {
      "cell_type": "markdown",
      "metadata": {
        "id": "avKwtkgcjvR6",
        "colab_type": "text"
      },
      "source": [
        "**Problem 3**: \n",
        "The author asks you to find values of $h_i$ that make your neural network closely approximate $f(x)$. Record your values of $h_i$ here and your best \"average deviation\" score.\n",
        "- Note $h$ is simply a weight. The author is calling it $h$ to correpond to height, but it's just a weight corresponding to the connection between the hidden layer and the output layer."
      ]
    },
    {
      "cell_type": "markdown",
      "metadata": {
        "collapsed": true,
        "id": "4geZGp5ijvR6",
        "colab_type": "text"
      },
      "source": [
        "**Answer:**\n",
        "\n",
        "- h1 = -1.2\n",
        "- h2 = -1.4\n",
        "- h3 = 0\n",
        "- h4 = -1.2\n",
        "- h5 = 1.1\n",
        "\n",
        "- average deviation = 0.41"
      ]
    },
    {
      "cell_type": "markdown",
      "metadata": {
        "id": "RdmIGyUojvR7",
        "colab_type": "text"
      },
      "source": [
        "**Problem 4**: Build the neural network from your work in Problem 3 here.\n",
        "\n",
        "A few things to keep in mind:\n",
        "- How many inputs are there? \n",
        "- How many outputs are there?\n",
        "- How many neurons are in the hidden layer? \n",
        "- In order to create a step function at a specific value of $x$:\n",
        "    - what should the value of $w$ be?\n",
        "    - what should the value of $b$ be?\n",
        "    - use a [sigmoid activation function](https://en.wikipedia.org/wiki/Activation_function#Comparison_of_activation_functions).\n",
        "- What do the values of $h_i$ represent?\n",
        "- Use an [sigmoid activation function](https://en.wikipedia.org/wiki/Activation_function#Comparison_of_activation_functions) on the last layer.\n",
        "\n",
        "The values of $h$ on this diagram are **not correct**, but this image may be helpful to you as you plan out your network!\n",
        "\n",
        "<img src=\"./images/network.jpg\" alt=\"drawing\" width=\"400\"/>"
      ]
    },
    {
      "cell_type": "code",
      "metadata": {
        "id": "EJmxuZhKjvR8",
        "colab_type": "code",
        "colab": {}
      },
      "source": [
        "import numpy as np\n",
        "import matplotlib.pyplot as plt\n",
        "%matplotlib inline"
      ],
      "execution_count": 0,
      "outputs": []
    },
    {
      "cell_type": "code",
      "metadata": {
        "id": "G6CG3ivhjvR-",
        "colab_type": "code",
        "colab": {}
      },
      "source": [
        "# Define a sigmoid activation function.\n",
        "def sigmoid_activation(x):\n",
        "  return 1/(1+np.exp(-x))"
      ],
      "execution_count": 0,
      "outputs": []
    },
    {
      "cell_type": "code",
      "metadata": {
        "id": "9Jnqq8vujvSA",
        "colab_type": "code",
        "colab": {
          "base_uri": "https://localhost:8080/",
          "height": 286
        },
        "outputId": "90c0c8fe-05b7-4ce2-db0f-43530d532a17"
      },
      "source": [
        "# Plot your activation function so that it looks correct.\n",
        "x_val = np.linspace(-8, 8, 50)\n",
        "y_val = [sigmoid_activation(x) for x in x_val]\n",
        "plt.plot(x_val, y_val)"
      ],
      "execution_count": 13,
      "outputs": [
        {
          "output_type": "execute_result",
          "data": {
            "text/plain": [
              "[<matplotlib.lines.Line2D at 0x7fb7ce9e3e80>]"
            ]
          },
          "metadata": {
            "tags": []
          },
          "execution_count": 13
        },
        {
          "output_type": "display_data",
          "data": {
            "image/png": "[encoded data removed]",
            "text/plain": [
              "<Figure size 432x288 with 1 Axes>"
            ]
          },
          "metadata": {
            "tags": []
          }
        }
      ]
    },
    {
      "cell_type": "code",
      "metadata": {
        "id": "u_N28CyRjvSC",
        "colab_type": "code",
        "colab": {}
      },
      "source": [
        "# Define a function that will take in your weight (w)\n",
        "# and where you want the step to occur, then solve for\n",
        "# the bias.\n",
        "\n",
        "def solve_for_bias(w, step):\n",
        "  return -1*(w*step)"
      ],
      "execution_count": 0,
      "outputs": []
    },
    {
      "cell_type": "code",
      "metadata": {
        "id": "UDv8ue9qjvSE",
        "colab_type": "code",
        "colab": {}
      },
      "source": [
        "# Set up model structure (topology) and define the weights and biases.\n",
        "\n",
        "\n",
        "# Specify weights and biases from input to hidden layer.\n",
        "steps = [0, .2, .2, .4, .4, .6, .6, .8, .8, 1.0]\n",
        "bias_hidden = [solve_for_bias(1000, x) for x in steps]\n",
        "weights_hidden = [1000]*10\n",
        "\n",
        "\n",
        "# Remember: what are our values of weights from the hidden layer to the output layer?\n",
        "# These are the values of h that we got!\n",
        "weights_output = [-1.2, 1.2, -1.4, 1.4, -.2, .2, -1, 1, 1.1, -1.1]\n",
        "bias_output = [solve_for_bias(weights_output[i], steps[i]) \n",
        "               for i in range(len(steps))]"
      ],
      "execution_count": 0,
      "outputs": []
    },
    {
      "cell_type": "code",
      "metadata": {
        "id": "j2jpNVVKjvSF",
        "colab_type": "code",
        "colab": {}
      },
      "source": [
        "# Define function to run the network:\n",
        "def run_network(x):\n",
        "    \n",
        "    # Define your input value. This should just be one value.\n",
        "    input_value = x\n",
        "    \n",
        "    # Calculate the value of the nodes in the hidden layer.\n",
        "    Z_hidden = [weights_hidden[i]*input_value+bias_hidden[i] \n",
        "                for i in range(len(weights_hidden))]\n",
        "    \n",
        "    # Use your activation function to transform the value of your nodes.\n",
        "    activation_hidden = [sigmoid_activation(z) for z in Z_hidden]\n",
        "\n",
        "    # Calculate the value of the nodes in the output layer.\n",
        "    Z_output = [activation_hidden[i]*weights_output[i]+bias_output[i]\n",
        "                for i in range(len(activation_hidden))]\n",
        "    \n",
        "    # Use your activation function to transform the value of your output node.\n",
        "    activation_output = sigmoid_activation(sum(Z_output))\n",
        "    \n",
        "    # Return the output of your network!\n",
        "    return activation_output"
      ],
      "execution_count": 0,
      "outputs": []
    },
    {
      "cell_type": "markdown",
      "metadata": {
        "id": "pCBWyVdMjvSH",
        "colab_type": "text"
      },
      "source": [
        "**Problem 5**: Now that we've built our neural network, let's evaluate the performance of it!\n",
        "\n",
        "\n",
        "- Use `np.linspace` to generate 1000 values of $x$ between 0 and 1. \n",
        "- Your $y$ values are the actual observed values of $f(x)=0.2+0.4x^2+0.3x\\sin(15x)+0.05\\cos(50x)$ for each of the $x$ that you generated using `np.linspace`. Generate $y$ (using the true function $f(x))$ for all values of $x$.\n",
        "- Your $\\hat{y}$ in this case are your predicted values from your neural network for each of the $x$ that you generated using `np.linspace`.\n",
        "- Visually compare $y$ and $\\hat{y}$ by plotting both on one grid.\n",
        "- Compare $y$ and $\\hat{y}$ using mean squared error.\n",
        "\n",
        "Recall that mean squared error is given by:\n",
        "\n",
        "$$\n",
        "\\frac{1}{n}\\sum_{i=1}^n (\\hat{y}-y)^2\n",
        "$$"
      ]
    },
    {
      "cell_type": "code",
      "metadata": {
        "id": "4rluaOWXjvSI",
        "colab_type": "code",
        "colab": {
          "base_uri": "https://localhost:8080/",
          "height": 51
        },
        "outputId": "239a99d8-7cf7-4922-bceb-b551fa423107"
      },
      "source": [
        "import math\n",
        "# Generate values of X from 0 to 1.\n",
        "x_values = np.linspace(0, 1, 1000)\n",
        "\n",
        "# Generate values of Y for each X from 0 to 1.\n",
        "def f(x): \n",
        "    return (0.05*math.cos(50*x))+ (0.3*x*math.sin(15*x)) + 0.2 + (0.4*(x**2))\n",
        "\n",
        "y = [f(x) for x in x_values]\n",
        "\n",
        "# Generate values of Y-hat for each X from 0 to 1.\n",
        "y_hat = [run_network(x) for x in x_values]"
      ],
      "execution_count": 24,
      "outputs": [
        {
          "output_type": "stream",
          "text": [
            "/usr/local/lib/python3.6/dist-packages/ipykernel_launcher.py:2: RuntimeWarning: overflow encountered in exp\n",
            "  \n"
          ],
          "name": "stderr"
        }
      ]
    },
    {
      "cell_type": "code",
      "metadata": {
        "id": "wmqRDijqjvSL",
        "colab_type": "code",
        "colab": {
          "base_uri": "https://localhost:8080/",
          "height": 269
        },
        "outputId": "069e8563-6e69-4b2e-e034-0b0792effd17"
      },
      "source": [
        "# Plot your predicted and observed values.\n",
        "plt.plot(x_values, y, label = 'True')\n",
        "plt.plot(x_values, y_hat, label = 'Predicted')\n",
        "plt.legend()\n",
        "plt.xlim((0,1));"
      ],
      "execution_count": 25,
      "outputs": [
        {
          "output_type": "display_data",
          "data": {
            "image/png": "[encoded data removed]",
            "text/plain": [
              "<Figure size 432x288 with 1 Axes>"
            ]
          },
          "metadata": {
            "tags": []
          }
        }
      ]
    },
    {
      "cell_type": "code",
      "metadata": {
        "id": "oDNklnW0jvSN",
        "colab_type": "code",
        "colab": {
          "base_uri": "https://localhost:8080/",
          "height": 34
        },
        "outputId": "12d842d0-46fd-45d5-d757-4239f0659572"
      },
      "source": [
        "# Calculate MSE.\n",
        "MSE = 1/len(x_values)*sum([(y_hat[i]-y[i])**2 for i in range(len(x_values))])\n",
        "MSE\n"
      ],
      "execution_count": 26,
      "outputs": [
        {
          "output_type": "execute_result",
          "data": {
            "text/plain": [
              "0.014920165198554242"
            ]
          },
          "metadata": {
            "tags": []
          },
          "execution_count": 26
        }
      ]
    },
    {
      "cell_type": "markdown",
      "metadata": {
        "id": "ATRb9ygrjvSP",
        "colab_type": "text"
      },
      "source": [
        "Note: This will vary depending on your values of $h$ - your MSE may differ from others' MSE!"
      ]
    },
    {
      "cell_type": "markdown",
      "metadata": {
        "id": "cofEaYM_jvSQ",
        "colab_type": "text"
      },
      "source": [
        "**Problem 6**: Suppose you wanted to increase the performance of this neural network. How might you go about doing so?"
      ]
    },
    {
      "cell_type": "markdown",
      "metadata": {
        "collapsed": true,
        "id": "h4CzrHWqjvSR",
        "colab_type": "text"
      },
      "source": [
        "**Answer:**\n",
        "\n",
        "Add more hidden layers, Add more nodes"
      ]
    },
    {
      "cell_type": "markdown",
      "metadata": {
        "id": "GRENcfQ_jvSS",
        "colab_type": "text"
      },
      "source": [
        "**Problem 7**: Summarize the Universal Approximation Theorem and show that it explains why neural networks can perform very well. (Don't copy it; use your own words!)"
      ]
    },
    {
      "cell_type": "markdown",
      "metadata": {
        "collapsed": true,
        "id": "GqfPv5AzjvST",
        "colab_type": "text"
      },
      "source": [
        "**Answer:**\n",
        "The neural network is able to approximate all sorts of functions and therefore can take any shape. This indicates why neural networks perform so well."
      ]
    }
  ]
}